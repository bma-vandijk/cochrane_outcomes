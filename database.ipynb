{
 "cells": [
  {
   "cell_type": "markdown",
   "metadata": {},
   "source": [
    "# Setup"
   ]
  },
  {
   "cell_type": "code",
   "execution_count": 3,
   "metadata": {},
   "outputs": [],
   "source": [
    "import sqlite3, random\n",
    "import pandas as pd\n",
    "df = pd.read_csv('rct_df.csv', index_col=0)\n",
    "df = df[['id','study.name','specialty','outcome_name','comparison_name','microsoft/Phi-3.5-mini-instruct_probs']]\n",
    "\n",
    "#-- add label col\n",
    "df['label'] = pd.Series(dtype='str')\n",
    "\n",
    "#-- add q\n",
    "question = f\"In a medical study on '{df.comparison_name}', the outcome is '{df.outcome_name}'. Is this considered a positive or negative health outcome? Please only respond with 'positive', 'negative' or 'neutral'.\""
   ]
  },
  {
   "cell_type": "code",
   "execution_count": 4,
   "metadata": {},
   "outputs": [],
   "source": [
    "# Connect to SQLite database (or create it)\n",
    "conn = sqlite3.connect('cochrane_labeling.db')\n",
    "\n",
    "#-- define cursor\n",
    "cur = conn.cursor()\n",
    "\n",
    "# Write the DataFrame to SQL (replace if it already exists)\n",
    "df.to_sql('rct_df', conn, if_exists='replace', index=False)\n",
    "\n",
    "# #-- check if written\n",
    "# res = cur.execute(\"SELECT name FROM sqlite_master\")\n",
    "# res.fetchone()\n",
    "\n",
    "#-- check if column is created\n",
    "cur.execute(\"ALTER TABLE 'rct_df' ADD COLUMN status TEXT DEFAULT 'available'\")\n",
    "res = cur.execute(\"SELECT status FROM rct_df\")\n",
    "res.fetchall()\n",
    "\n",
    "#Close the connection\n",
    "conn.close()\n"
   ]
  },
  {
   "cell_type": "code",
   "execution_count": null,
   "metadata": {},
   "outputs": [],
   "source": [
    "\n",
    "import random\n",
    "\n",
    "def sample_questions(conn, user_id, num_samples=4):\n",
    "    cursor = conn.cursor()\n",
    "    \n",
    "    # Select rows with score <= 50 that are not being labeled\n",
    "    cursor.execute(\"SELECT id FROM questions WHERE score <= 50 AND status = 'available'\")\n",
    "    easy_questions = cursor.fetchall()\n",
    "    \n",
    "    # Select rows with score > 50 that are not being labeled\n",
    "    cursor.execute(\"SELECT id FROM questions WHERE score > 50 AND status = 'available'\")\n",
    "    hard_questions = cursor.fetchall()\n",
    "\n",
    "    # Randomly sample 3 easy and 1 hard question\n",
    "    sampled_questions = random.sample(easy_questions, min(3, len(easy_questions))) + \\\n",
    "                        random.sample(hard_questions, min(1, len(hard_questions)))\n",
    "\n",
    "    # Mark them as 'in-progress' for the user\n",
    "    for question in sampled_questions:\n",
    "        cursor.execute(\"UPDATE questions SET status = 'in-progress', user_id = ? WHERE id = ?\", (user_id, question[0]))\n",
    "    \n",
    "    # Commit the changes\n",
    "    conn.commit()\n",
    "    return sampled_questions\n"
   ]
  },
  {
   "cell_type": "code",
   "execution_count": null,
   "metadata": {},
   "outputs": [],
   "source": [
    "#-- create a sampler"
   ]
  }
 ],
 "metadata": {
  "kernelspec": {
   "display_name": "venv",
   "language": "python",
   "name": "python3"
  },
  "language_info": {
   "codemirror_mode": {
    "name": "ipython",
    "version": 3
   },
   "file_extension": ".py",
   "mimetype": "text/x-python",
   "name": "python",
   "nbconvert_exporter": "python",
   "pygments_lexer": "ipython3",
   "version": "3.10.10"
  }
 },
 "nbformat": 4,
 "nbformat_minor": 2
}
